{
 "cells": [
  {
   "cell_type": "code",
   "execution_count": 1,
   "id": "divided-gamma",
   "metadata": {
    "execution": {
     "iopub.execute_input": "2021-02-20T04:29:14.588907Z",
     "iopub.status.busy": "2021-02-20T04:29:14.587918Z",
     "iopub.status.idle": "2021-02-20T04:29:15.192005Z",
     "shell.execute_reply": "2021-02-20T04:29:15.191004Z",
     "shell.execute_reply.started": "2021-02-20T04:29:14.588907Z"
    }
   },
   "outputs": [],
   "source": [
    "import json\n",
    "from os import path\n",
    "from itertools import combinations\n",
    "\n",
    "import pandas as pd\n",
    "import numpy as np\n",
    "import matplotlib.pyplot as plt\n",
    "from tqdm.notebook import tqdm"
   ]
  },
  {
   "cell_type": "code",
   "execution_count": 2,
   "id": "numerous-treasury",
   "metadata": {
    "execution": {
     "iopub.execute_input": "2021-02-20T04:29:15.193002Z",
     "iopub.status.busy": "2021-02-20T04:29:15.193002Z",
     "iopub.status.idle": "2021-02-20T04:29:15.300715Z",
     "shell.execute_reply": "2021-02-20T04:29:15.299718Z",
     "shell.execute_reply.started": "2021-02-20T04:29:15.193002Z"
    }
   },
   "outputs": [
    {
     "data": {
      "application/vnd.jupyter.widget-view+json": {
       "model_id": "30b7f64ca39d4d198799dcf1d04b9778",
       "version_major": 2,
       "version_minor": 0
      },
      "text/plain": [
       "  0%|          | 0/15 [00:00<?, ?it/s]"
      ]
     },
     "metadata": {},
     "output_type": "display_data"
    },
    {
     "data": {
      "text/plain": [
       "('haodong_jack',\n",
       " ('haodong', 'jack'),\n",
       " ['liyuan', 'reaching', 'yicong', 'zheyu'],\n",
       " {'action_list': ['default',\n",
       "   'reach',\n",
       "   'flip table top',\n",
       "   'flip table',\n",
       "   'spin leg',\n",
       "   'align the leg',\n",
       "   'rotate table top',\n",
       "   'human grasp'],\n",
       "  'classification_report': {'0': {'precision': 0.597936687394008,\n",
       "    'recall': 0.9140203067617196,\n",
       "    'f1-score': 0.7229389149935925,\n",
       "    'support': 13887},\n",
       "   '1': {'precision': 0.0, 'recall': 0.0, 'f1-score': 0.0, 'support': 846},\n",
       "   '2': {'precision': 0.8003875968992248,\n",
       "    'recall': 0.8595213319458896,\n",
       "    'f1-score': 0.8289011540391369,\n",
       "    'support': 1922},\n",
       "   '3': {'precision': 0.0, 'recall': 0.0, 'f1-score': 0.0, 'support': 2989},\n",
       "   '4': {'precision': 0.8665540540540541,\n",
       "    'recall': 0.2136609745939192,\n",
       "    'f1-score': 0.34279986635482795,\n",
       "    'support': 2401},\n",
       "   '5': {'precision': 0.2222222222222222,\n",
       "    'recall': 0.18497109826589594,\n",
       "    'f1-score': 0.20189274447949526,\n",
       "    'support': 519},\n",
       "   '6': {'precision': 0.6931818181818182,\n",
       "    'recall': 0.08299319727891157,\n",
       "    'f1-score': 0.14823815309842042,\n",
       "    'support': 1470},\n",
       "   '7': {'precision': 0.16666666666666666,\n",
       "    'recall': 0.0825515947467167,\n",
       "    'f1-score': 0.11041405269761605,\n",
       "    'support': 1066},\n",
       "   'accuracy': 0.6041434262948208,\n",
       "   'macro avg': {'precision': 0.4183686306772492,\n",
       "    'recall': 0.2922148129491316,\n",
       "    'f1-score': 0.29439811070788613,\n",
       "    'support': 25100},\n",
       "   'weighted avg': {'precision': 0.5272695336889226,\n",
       "    'recall': 0.6041434262948208,\n",
       "    'f1-score': 0.5137871318451146,\n",
       "    'support': 25100}},\n",
       "  'ap_list': [0.5940959955514954,\n",
       "   0.03370517928286853,\n",
       "   0.6987071854713452,\n",
       "   0.11908366533864542,\n",
       "   0.260367907233477,\n",
       "   0.05795727814496669,\n",
       "   0.11123455466938678,\n",
       "   0.0527227425507476]})"
      ]
     },
     "execution_count": 2,
     "metadata": {},
     "output_type": "execute_result"
    }
   ],
   "source": [
    "EVALUATION_PATH = (\n",
    "    r\"E:\\\\Projects\\\\Other\\\\jupyterlab\\\\notebook\\\\COMP 4550\\\\projects\\\\IKEA_ASM_Action\\\\i3d\\\\log\\\\overlap_clips\\\\\"\n",
    ")\n",
    "video_list = [\n",
    "    \"haodong\",\n",
    "    \"jack\",\n",
    "    \"liyuan\",\n",
    "    \"reaching\",\n",
    "    \"yicong\",\n",
    "    \"zheyu\",\n",
    "]\n",
    "combination_list = list(combinations(video_list, 2))\n",
    "\n",
    "evaluation_list = []\n",
    "\n",
    "bar = tqdm(combination_list)\n",
    "for test_index_list in bar:\n",
    "    train_index_list = [video for video in video_list if video not in test_index_list]\n",
    "    bar.set_description(str(test_index_list) + str(train_index_list))\n",
    "    run_name = \"_\".join(test_index_list)\n",
    "    with open(path.join(EVALUATION_PATH, run_name, \"results\", \"evaluation.json\"), \"r\", encoding=\"utf-8\") as f:\n",
    "        evaluation_list.append((run_name, test_index_list, train_index_list, json.load(f)))\n",
    "evaluation_list[0]"
   ]
  },
  {
   "cell_type": "code",
   "execution_count": 3,
   "id": "swedish-trust",
   "metadata": {
    "execution": {
     "iopub.execute_input": "2021-02-20T04:29:15.303709Z",
     "iopub.status.busy": "2021-02-20T04:29:15.303709Z",
     "iopub.status.idle": "2021-02-20T04:29:15.317684Z",
     "shell.execute_reply": "2021-02-20T04:29:15.315989Z",
     "shell.execute_reply.started": "2021-02-20T04:29:15.303709Z"
    }
   },
   "outputs": [
    {
     "data": {
      "text/plain": [
       "[0.6041434262948208,\n",
       " 0.670056544856106,\n",
       " 0.6410243806527723,\n",
       " 0.6480216435576598,\n",
       " 0.5906902758591821,\n",
       " 0.7476142411451643,\n",
       " 0.702689513067997,\n",
       " 0.6501373427786613,\n",
       " 0.6273252376404239,\n",
       " 0.7784037558685446,\n",
       " 0.6941673646539253,\n",
       " 0.7023075054651445,\n",
       " 0.7074895251396648,\n",
       " 0.6957228251407347,\n",
       " 0.6210832671882678]"
      ]
     },
     "execution_count": 3,
     "metadata": {},
     "output_type": "execute_result"
    }
   ],
   "source": [
    "index_list = [evaluation[0] for evaluation in evaluation_list]\n",
    "accuracy_list = [evaluation[3][\"classification_report\"][\"accuracy\"] for evaluation in evaluation_list]\n",
    "accuracy_list"
   ]
  },
  {
   "cell_type": "code",
   "execution_count": 4,
   "id": "solved-apparatus",
   "metadata": {
    "execution": {
     "iopub.execute_input": "2021-02-20T04:29:15.318666Z",
     "iopub.status.busy": "2021-02-20T04:29:15.318666Z",
     "iopub.status.idle": "2021-02-20T04:29:15.348588Z",
     "shell.execute_reply": "2021-02-20T04:29:15.347590Z",
     "shell.execute_reply.started": "2021-02-20T04:29:15.318666Z"
    }
   },
   "outputs": [
    {
     "data": {
      "text/html": [
       "<div>\n",
       "<style scoped>\n",
       "    .dataframe tbody tr th:only-of-type {\n",
       "        vertical-align: middle;\n",
       "    }\n",
       "\n",
       "    .dataframe tbody tr th {\n",
       "        vertical-align: top;\n",
       "    }\n",
       "\n",
       "    .dataframe thead th {\n",
       "        text-align: right;\n",
       "    }\n",
       "</style>\n",
       "<table border=\"1\" class=\"dataframe\">\n",
       "  <thead>\n",
       "    <tr style=\"text-align: right;\">\n",
       "      <th></th>\n",
       "      <th>accuracy</th>\n",
       "    </tr>\n",
       "  </thead>\n",
       "  <tbody>\n",
       "    <tr>\n",
       "      <th>haodong_jack</th>\n",
       "      <td>0.604143</td>\n",
       "    </tr>\n",
       "    <tr>\n",
       "      <th>haodong_liyuan</th>\n",
       "      <td>0.670057</td>\n",
       "    </tr>\n",
       "    <tr>\n",
       "      <th>haodong_reaching</th>\n",
       "      <td>0.641024</td>\n",
       "    </tr>\n",
       "    <tr>\n",
       "      <th>haodong_yicong</th>\n",
       "      <td>0.648022</td>\n",
       "    </tr>\n",
       "    <tr>\n",
       "      <th>haodong_zheyu</th>\n",
       "      <td>0.590690</td>\n",
       "    </tr>\n",
       "    <tr>\n",
       "      <th>jack_liyuan</th>\n",
       "      <td>0.747614</td>\n",
       "    </tr>\n",
       "    <tr>\n",
       "      <th>jack_reaching</th>\n",
       "      <td>0.702690</td>\n",
       "    </tr>\n",
       "    <tr>\n",
       "      <th>jack_yicong</th>\n",
       "      <td>0.650137</td>\n",
       "    </tr>\n",
       "    <tr>\n",
       "      <th>jack_zheyu</th>\n",
       "      <td>0.627325</td>\n",
       "    </tr>\n",
       "    <tr>\n",
       "      <th>liyuan_reaching</th>\n",
       "      <td>0.778404</td>\n",
       "    </tr>\n",
       "    <tr>\n",
       "      <th>liyuan_yicong</th>\n",
       "      <td>0.694167</td>\n",
       "    </tr>\n",
       "    <tr>\n",
       "      <th>liyuan_zheyu</th>\n",
       "      <td>0.702308</td>\n",
       "    </tr>\n",
       "    <tr>\n",
       "      <th>reaching_yicong</th>\n",
       "      <td>0.707490</td>\n",
       "    </tr>\n",
       "    <tr>\n",
       "      <th>reaching_zheyu</th>\n",
       "      <td>0.695723</td>\n",
       "    </tr>\n",
       "    <tr>\n",
       "      <th>yicong_zheyu</th>\n",
       "      <td>0.621083</td>\n",
       "    </tr>\n",
       "  </tbody>\n",
       "</table>\n",
       "</div>"
      ],
      "text/plain": [
       "                  accuracy\n",
       "haodong_jack      0.604143\n",
       "haodong_liyuan    0.670057\n",
       "haodong_reaching  0.641024\n",
       "haodong_yicong    0.648022\n",
       "haodong_zheyu     0.590690\n",
       "jack_liyuan       0.747614\n",
       "jack_reaching     0.702690\n",
       "jack_yicong       0.650137\n",
       "jack_zheyu        0.627325\n",
       "liyuan_reaching   0.778404\n",
       "liyuan_yicong     0.694167\n",
       "liyuan_zheyu      0.702308\n",
       "reaching_yicong   0.707490\n",
       "reaching_zheyu    0.695723\n",
       "yicong_zheyu      0.621083"
      ]
     },
     "execution_count": 4,
     "metadata": {},
     "output_type": "execute_result"
    }
   ],
   "source": [
    "df = pd.DataFrame({\"accuracy\": accuracy_list}, index=index_list)\n",
    "df"
   ]
  },
  {
   "cell_type": "code",
   "execution_count": 5,
   "id": "leading-oliver",
   "metadata": {
    "execution": {
     "iopub.execute_input": "2021-02-20T04:29:15.349601Z",
     "iopub.status.busy": "2021-02-20T04:29:15.349601Z",
     "iopub.status.idle": "2021-02-20T04:29:15.364545Z",
     "shell.execute_reply": "2021-02-20T04:29:15.363547Z",
     "shell.execute_reply.started": "2021-02-20T04:29:15.349601Z"
    }
   },
   "outputs": [],
   "source": [
    "df.sort_values(\"accuracy\", inplace=True)"
   ]
  },
  {
   "cell_type": "code",
   "execution_count": 6,
   "id": "recognized-vacation",
   "metadata": {
    "execution": {
     "iopub.execute_input": "2021-02-20T04:29:15.366540Z",
     "iopub.status.busy": "2021-02-20T04:29:15.365542Z",
     "iopub.status.idle": "2021-02-20T04:29:15.651555Z",
     "shell.execute_reply": "2021-02-20T04:29:15.650555Z",
     "shell.execute_reply.started": "2021-02-20T04:29:15.366540Z"
    }
   },
   "outputs": [
    {
     "data": {
      "text/plain": [
       "<AxesSubplot:title={'center':'Accuracy of each cross validation'}, xlabel='test video list', ylabel='accuracy'>"
      ]
     },
     "execution_count": 6,
     "metadata": {},
     "output_type": "execute_result"
    },
    {
     "data": {
      "image/png": "[encoded data removed]",
      "text/plain": [
       "<Figure size 864x432 with 1 Axes>"
      ]
     },
     "metadata": {
      "needs_background": "light"
     },
     "output_type": "display_data"
    }
   ],
   "source": [
    "fig, ax = plt.subplots(1, 1, figsize=(12, 6))\n",
    "df.plot.bar(ax=ax, title=\"Accuracy of each cross validation\", xlabel=\"test video list\", ylabel=\"accuracy\", legend=False)"
   ]
  },
  {
   "cell_type": "code",
   "execution_count": 7,
   "id": "celtic-toilet",
   "metadata": {
    "execution": {
     "iopub.execute_input": "2021-02-20T04:29:15.652552Z",
     "iopub.status.busy": "2021-02-20T04:29:15.652552Z",
     "iopub.status.idle": "2021-02-20T04:29:16.065449Z",
     "shell.execute_reply": "2021-02-20T04:29:16.064534Z",
     "shell.execute_reply.started": "2021-02-20T04:29:15.652552Z"
    }
   },
   "outputs": [],
   "source": [
    "fig.tight_layout()\n",
    "fig.savefig(\"../img/accuracy.png\",dpi=300)"
   ]
  },
  {
   "cell_type": "code",
   "execution_count": 8,
   "id": "unlimited-guarantee",
   "metadata": {
    "execution": {
     "iopub.execute_input": "2021-02-20T04:29:16.066446Z",
     "iopub.status.busy": "2021-02-20T04:29:16.066446Z",
     "iopub.status.idle": "2021-02-20T04:29:16.080810Z",
     "shell.execute_reply": "2021-02-20T04:29:16.079813Z",
     "shell.execute_reply.started": "2021-02-20T04:29:16.066446Z"
    }
   },
   "outputs": [
    {
     "data": {
      "text/plain": [
       "[0.2409843135303666,\n",
       " 0.3076279220915399,\n",
       " 0.35322014942036495,\n",
       " 0.34621526975458167,\n",
       " 0.3262340418602133,\n",
       " 0.3468972997851897,\n",
       " 0.3635292282162126,\n",
       " 0.3704774371606208,\n",
       " 0.3449716466384381,\n",
       " 0.4388002989150425,\n",
       " 0.3890169096067753,\n",
       " 0.4407977199823151,\n",
       " 0.4135772761520775,\n",
       " 0.47212379969658014,\n",
       " 0.410161415282644]"
      ]
     },
     "execution_count": 8,
     "metadata": {},
     "output_type": "execute_result"
    }
   ],
   "source": [
    "map_list = [np.mean(evaluation[3][\"ap_list\"]) for evaluation in evaluation_list]\n",
    "map_list"
   ]
  },
  {
   "cell_type": "code",
   "execution_count": 9,
   "id": "analyzed-shark",
   "metadata": {
    "execution": {
     "iopub.execute_input": "2021-02-20T04:29:16.083804Z",
     "iopub.status.busy": "2021-02-20T04:29:16.082805Z",
     "iopub.status.idle": "2021-02-20T04:29:16.095787Z",
     "shell.execute_reply": "2021-02-20T04:29:16.094773Z",
     "shell.execute_reply.started": "2021-02-20T04:29:16.083804Z"
    }
   },
   "outputs": [
    {
     "data": {
      "text/html": [
       "<div>\n",
       "<style scoped>\n",
       "    .dataframe tbody tr th:only-of-type {\n",
       "        vertical-align: middle;\n",
       "    }\n",
       "\n",
       "    .dataframe tbody tr th {\n",
       "        vertical-align: top;\n",
       "    }\n",
       "\n",
       "    .dataframe thead th {\n",
       "        text-align: right;\n",
       "    }\n",
       "</style>\n",
       "<table border=\"1\" class=\"dataframe\">\n",
       "  <thead>\n",
       "    <tr style=\"text-align: right;\">\n",
       "      <th></th>\n",
       "      <th>mAP</th>\n",
       "    </tr>\n",
       "  </thead>\n",
       "  <tbody>\n",
       "    <tr>\n",
       "      <th>haodong_jack</th>\n",
       "      <td>0.240984</td>\n",
       "    </tr>\n",
       "    <tr>\n",
       "      <th>haodong_liyuan</th>\n",
       "      <td>0.307628</td>\n",
       "    </tr>\n",
       "    <tr>\n",
       "      <th>haodong_reaching</th>\n",
       "      <td>0.353220</td>\n",
       "    </tr>\n",
       "    <tr>\n",
       "      <th>haodong_yicong</th>\n",
       "      <td>0.346215</td>\n",
       "    </tr>\n",
       "    <tr>\n",
       "      <th>haodong_zheyu</th>\n",
       "      <td>0.326234</td>\n",
       "    </tr>\n",
       "    <tr>\n",
       "      <th>jack_liyuan</th>\n",
       "      <td>0.346897</td>\n",
       "    </tr>\n",
       "    <tr>\n",
       "      <th>jack_reaching</th>\n",
       "      <td>0.363529</td>\n",
       "    </tr>\n",
       "    <tr>\n",
       "      <th>jack_yicong</th>\n",
       "      <td>0.370477</td>\n",
       "    </tr>\n",
       "    <tr>\n",
       "      <th>jack_zheyu</th>\n",
       "      <td>0.344972</td>\n",
       "    </tr>\n",
       "    <tr>\n",
       "      <th>liyuan_reaching</th>\n",
       "      <td>0.438800</td>\n",
       "    </tr>\n",
       "    <tr>\n",
       "      <th>liyuan_yicong</th>\n",
       "      <td>0.389017</td>\n",
       "    </tr>\n",
       "    <tr>\n",
       "      <th>liyuan_zheyu</th>\n",
       "      <td>0.440798</td>\n",
       "    </tr>\n",
       "    <tr>\n",
       "      <th>reaching_yicong</th>\n",
       "      <td>0.413577</td>\n",
       "    </tr>\n",
       "    <tr>\n",
       "      <th>reaching_zheyu</th>\n",
       "      <td>0.472124</td>\n",
       "    </tr>\n",
       "    <tr>\n",
       "      <th>yicong_zheyu</th>\n",
       "      <td>0.410161</td>\n",
       "    </tr>\n",
       "  </tbody>\n",
       "</table>\n",
       "</div>"
      ],
      "text/plain": [
       "                       mAP\n",
       "haodong_jack      0.240984\n",
       "haodong_liyuan    0.307628\n",
       "haodong_reaching  0.353220\n",
       "haodong_yicong    0.346215\n",
       "haodong_zheyu     0.326234\n",
       "jack_liyuan       0.346897\n",
       "jack_reaching     0.363529\n",
       "jack_yicong       0.370477\n",
       "jack_zheyu        0.344972\n",
       "liyuan_reaching   0.438800\n",
       "liyuan_yicong     0.389017\n",
       "liyuan_zheyu      0.440798\n",
       "reaching_yicong   0.413577\n",
       "reaching_zheyu    0.472124\n",
       "yicong_zheyu      0.410161"
      ]
     },
     "execution_count": 9,
     "metadata": {},
     "output_type": "execute_result"
    }
   ],
   "source": [
    "df2 = pd.DataFrame({\"mAP\": map_list}, index=index_list)\n",
    "df2"
   ]
  },
  {
   "cell_type": "code",
   "execution_count": 10,
   "id": "white-agenda",
   "metadata": {
    "execution": {
     "iopub.execute_input": "2021-02-20T04:29:16.097764Z",
     "iopub.status.busy": "2021-02-20T04:29:16.097764Z",
     "iopub.status.idle": "2021-02-20T04:29:16.111741Z",
     "shell.execute_reply": "2021-02-20T04:29:16.110730Z",
     "shell.execute_reply.started": "2021-02-20T04:29:16.097764Z"
    }
   },
   "outputs": [],
   "source": [
    "df2.sort_values(\"mAP\", inplace=True)"
   ]
  },
  {
   "cell_type": "code",
   "execution_count": 13,
   "id": "electrical-exhibit",
   "metadata": {
    "execution": {
     "iopub.execute_input": "2021-02-20T04:29:58.732230Z",
     "iopub.status.busy": "2021-02-20T04:29:58.731233Z",
     "iopub.status.idle": "2021-02-20T04:29:58.982071Z",
     "shell.execute_reply": "2021-02-20T04:29:58.980291Z",
     "shell.execute_reply.started": "2021-02-20T04:29:58.732230Z"
    }
   },
   "outputs": [
    {
     "data": {
      "text/plain": [
       "<AxesSubplot:title={'center':'mAP of each cross validation'}, xlabel='test video list', ylabel='mAP'>"
      ]
     },
     "execution_count": 13,
     "metadata": {},
     "output_type": "execute_result"
    },
    {
     "data": {
      "image/png": "[encoded data removed]",
      "text/plain": [
       "<Figure size 864x432 with 1 Axes>"
      ]
     },
     "metadata": {
      "needs_background": "light"
     },
     "output_type": "display_data"
    }
   ],
   "source": [
    "fig2, ax2 = plt.subplots(1, 1, figsize=(12, 6))\n",
    "df2.plot.bar(ax=ax2, title=\"mAP of each cross validation\", xlabel=\"test video list\", ylabel=\"mAP\", legend=False)"
   ]
  },
  {
   "cell_type": "code",
   "execution_count": 14,
   "id": "gross-distributor",
   "metadata": {
    "execution": {
     "iopub.execute_input": "2021-02-20T04:30:03.104042Z",
     "iopub.status.busy": "2021-02-20T04:30:03.104042Z",
     "iopub.status.idle": "2021-02-20T04:30:03.500808Z",
     "shell.execute_reply": "2021-02-20T04:30:03.500155Z",
     "shell.execute_reply.started": "2021-02-20T04:30:03.104042Z"
    }
   },
   "outputs": [],
   "source": [
    "fig2.tight_layout()\n",
    "fig2.savefig(\"../img/mAP.png\",dpi=300)"
   ]
  }
 ],
 "metadata": {
  "kernelspec": {
   "display_name": "Python 3",
   "language": "python",
   "name": "python3"
  },
  "language_info": {
   "codemirror_mode": {
    "name": "ipython",
    "version": 3
   },
   "file_extension": ".py",
   "mimetype": "text/x-python",
   "name": "python",
   "nbconvert_exporter": "python",
   "pygments_lexer": "ipython3",
   "version": "3.8.0"
  }
 },
 "nbformat": 4,
 "nbformat_minor": 5
}
