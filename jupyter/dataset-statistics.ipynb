{
 "cells": [
  {
   "cell_type": "code",
   "execution_count": 1,
   "metadata": {
    "execution": {
     "iopub.execute_input": "2021-02-19T13:30:42.768180Z",
     "iopub.status.busy": "2021-02-19T13:30:42.768180Z",
     "iopub.status.idle": "2021-02-19T13:30:43.426123Z",
     "shell.execute_reply": "2021-02-19T13:30:43.424809Z",
     "shell.execute_reply.started": "2021-02-19T13:30:42.768180Z"
    }
   },
   "outputs": [],
   "source": [
    "import os\n",
    "\n",
    "import matplotlib.pyplot as plt\n",
    "import numpy as np\n",
    "import pandas as pd\n",
    "from vidat import Vidat"
   ]
  },
  {
   "cell_type": "code",
   "execution_count": 2,
   "metadata": {
    "execution": {
     "iopub.execute_input": "2021-02-19T13:30:43.430121Z",
     "iopub.status.busy": "2021-02-19T13:30:43.429143Z",
     "iopub.status.idle": "2021-02-19T13:30:43.505063Z",
     "shell.execute_reply": "2021-02-19T13:30:43.504067Z",
     "shell.execute_reply.started": "2021-02-19T13:30:43.430121Z"
    }
   },
   "outputs": [],
   "source": [
    "DATESET_PATH = r\"D:\\dataset\\ikea_action_dataset_video\"\n",
    "\n",
    "video_list = [\n",
    "    \"haodong\",\n",
    "    \"jack\",\n",
    "    \"liyuan\",\n",
    "    \"reaching\",\n",
    "    \"yicong\",\n",
    "    \"zheyu\",\n",
    "]\n",
    "\n",
    "fps = 30\n",
    "\n",
    "vidat_list = []\n",
    "action_list = []\n",
    "video_frame_list = []\n",
    "\n",
    "for video in video_list:\n",
    "    vidat = Vidat(os.path.join(DATESET_PATH, video, \"annotations_sorted.json\"))\n",
    "    vidat_list.append(vidat)\n",
    "    video_frame_list.append(vidat.annotation.video.frames)\n",
    "    action_list.extend(vidat.annotation.actions)"
   ]
  },
  {
   "cell_type": "code",
   "execution_count": 3,
   "metadata": {
    "execution": {
     "iopub.execute_input": "2021-02-19T13:30:43.507059Z",
     "iopub.status.busy": "2021-02-19T13:30:43.507059Z",
     "iopub.status.idle": "2021-02-19T13:30:44.052492Z",
     "shell.execute_reply": "2021-02-19T13:30:44.051495Z",
     "shell.execute_reply.started": "2021-02-19T13:30:43.507059Z"
    }
   },
   "outputs": [
    {
     "data": {
      "image/png": "[encoded data removed]",
      "text/plain": [
       "<Figure size 864x432 with 2 Axes>"
      ]
     },
     "metadata": {
      "needs_background": "light"
     },
     "output_type": "display_data"
    }
   ],
   "source": [
    "# Distribution of video duration\n",
    "fig, (ax1, ax2) = plt.subplots(1, 2, figsize=(12, 6))\n",
    "ax1.set_title(\"Distribution of video duration\")\n",
    "ax1.hist(video_frame_list)\n",
    "ax1.set_xlabel(\"Temporal length (frames)\")\n",
    "ax1.set_ylabel(\"# videos\")\n",
    "# Distribution of video duration\n",
    "action_duration_list = [int((action.end - action.start) * fps) for action in action_list]\n",
    "ax2.set_title(\"Distribution of action duration\")\n",
    "ax2.hist(action_duration_list)\n",
    "ax2.set_xlabel(\"Temporal length (frames)\")\n",
    "ax2.set_ylabel(\"# action clips\")\n",
    "fig.savefig(\"../img/Figure1.png\", dpi=200)"
   ]
  },
  {
   "cell_type": "code",
   "execution_count": 4,
   "metadata": {
    "execution": {
     "iopub.execute_input": "2021-02-19T13:30:44.054487Z",
     "iopub.status.busy": "2021-02-19T13:30:44.054487Z",
     "iopub.status.idle": "2021-02-19T13:30:44.069454Z",
     "shell.execute_reply": "2021-02-19T13:30:44.067452Z",
     "shell.execute_reply.started": "2021-02-19T13:30:44.054487Z"
    }
   },
   "outputs": [
    {
     "data": {
      "text/plain": [
       "{2: 25, 7: 24, 1: 121, 9: 123, 5: 60, 4: 35, 6: 81, 3: 27, 8: 22}"
      ]
     },
     "execution_count": 4,
     "metadata": {},
     "output_type": "execute_result"
    }
   ],
   "source": [
    "# Actions distribution\n",
    "data = {}\n",
    "for action in action_list:\n",
    "    if action.action_id in data:\n",
    "        data[action.action_id] += 1\n",
    "    else:\n",
    "        data[action.action_id] = 1\n",
    "data"
   ]
  },
  {
   "cell_type": "code",
   "execution_count": 5,
   "metadata": {
    "execution": {
     "iopub.execute_input": "2021-02-19T13:30:44.071442Z",
     "iopub.status.busy": "2021-02-19T13:30:44.070444Z",
     "iopub.status.idle": "2021-02-19T13:30:44.100365Z",
     "shell.execute_reply": "2021-02-19T13:30:44.099368Z",
     "shell.execute_reply.started": "2021-02-19T13:30:44.071442Z"
    }
   },
   "outputs": [
    {
     "data": {
      "text/html": [
       "<div>\n",
       "<style scoped>\n",
       "    .dataframe tbody tr th:only-of-type {\n",
       "        vertical-align: middle;\n",
       "    }\n",
       "\n",
       "    .dataframe tbody tr th {\n",
       "        vertical-align: top;\n",
       "    }\n",
       "\n",
       "    .dataframe thead th {\n",
       "        text-align: right;\n",
       "    }\n",
       "</style>\n",
       "<table border=\"1\" class=\"dataframe\">\n",
       "  <thead>\n",
       "    <tr style=\"text-align: right;\">\n",
       "      <th></th>\n",
       "      <th>count</th>\n",
       "    </tr>\n",
       "  </thead>\n",
       "  <tbody>\n",
       "    <tr>\n",
       "      <th>8</th>\n",
       "      <td>22</td>\n",
       "    </tr>\n",
       "    <tr>\n",
       "      <th>7</th>\n",
       "      <td>24</td>\n",
       "    </tr>\n",
       "    <tr>\n",
       "      <th>2</th>\n",
       "      <td>25</td>\n",
       "    </tr>\n",
       "    <tr>\n",
       "      <th>3</th>\n",
       "      <td>27</td>\n",
       "    </tr>\n",
       "    <tr>\n",
       "      <th>4</th>\n",
       "      <td>35</td>\n",
       "    </tr>\n",
       "    <tr>\n",
       "      <th>5</th>\n",
       "      <td>60</td>\n",
       "    </tr>\n",
       "    <tr>\n",
       "      <th>6</th>\n",
       "      <td>81</td>\n",
       "    </tr>\n",
       "    <tr>\n",
       "      <th>1</th>\n",
       "      <td>121</td>\n",
       "    </tr>\n",
       "    <tr>\n",
       "      <th>9</th>\n",
       "      <td>123</td>\n",
       "    </tr>\n",
       "  </tbody>\n",
       "</table>\n",
       "</div>"
      ],
      "text/plain": [
       "   count\n",
       "8     22\n",
       "7     24\n",
       "2     25\n",
       "3     27\n",
       "4     35\n",
       "5     60\n",
       "6     81\n",
       "1    121\n",
       "9    123"
      ]
     },
     "execution_count": 5,
     "metadata": {},
     "output_type": "execute_result"
    }
   ],
   "source": [
    "df = pd.DataFrame({\"count\": data})\n",
    "df.sort_values(\"count\", inplace=True)\n",
    "df"
   ]
  },
  {
   "cell_type": "code",
   "execution_count": 6,
   "metadata": {
    "execution": {
     "iopub.execute_input": "2021-02-19T13:30:44.102359Z",
     "iopub.status.busy": "2021-02-19T13:30:44.101362Z",
     "iopub.status.idle": "2021-02-19T13:30:44.116321Z",
     "shell.execute_reply": "2021-02-19T13:30:44.115323Z",
     "shell.execute_reply.started": "2021-02-19T13:30:44.102359Z"
    }
   },
   "outputs": [
    {
     "data": {
      "text/plain": [
       "{1: 6, 2: 5, 3: 6, 4: 6, 5: 6, 6: 6, 7: 5, 8: 6, 9: 6}"
      ]
     },
     "execution_count": 6,
     "metadata": {},
     "output_type": "execute_result"
    }
   ],
   "source": [
    "# Actions occurrences distribution\n",
    "data2 = {}\n",
    "for vidat in vidat_list:\n",
    "    action_id_set = set()\n",
    "    for action in vidat.annotation.actions:\n",
    "        action_id_set.add(action.action_id)\n",
    "    for action_id in action_id_set:\n",
    "        if action_id in data2:\n",
    "            data2[action_id] += 1\n",
    "        else:\n",
    "            data2[action_id] = 1\n",
    "data2"
   ]
  },
  {
   "cell_type": "code",
   "execution_count": 7,
   "metadata": {
    "execution": {
     "iopub.execute_input": "2021-02-19T13:30:44.118317Z",
     "iopub.status.busy": "2021-02-19T13:30:44.117319Z",
     "iopub.status.idle": "2021-02-19T13:30:44.131284Z",
     "shell.execute_reply": "2021-02-19T13:30:44.131284Z",
     "shell.execute_reply.started": "2021-02-19T13:30:44.118317Z"
    }
   },
   "outputs": [
    {
     "data": {
      "text/html": [
       "<div>\n",
       "<style scoped>\n",
       "    .dataframe tbody tr th:only-of-type {\n",
       "        vertical-align: middle;\n",
       "    }\n",
       "\n",
       "    .dataframe tbody tr th {\n",
       "        vertical-align: top;\n",
       "    }\n",
       "\n",
       "    .dataframe thead th {\n",
       "        text-align: right;\n",
       "    }\n",
       "</style>\n",
       "<table border=\"1\" class=\"dataframe\">\n",
       "  <thead>\n",
       "    <tr style=\"text-align: right;\">\n",
       "      <th></th>\n",
       "      <th>count</th>\n",
       "    </tr>\n",
       "  </thead>\n",
       "  <tbody>\n",
       "    <tr>\n",
       "      <th>2</th>\n",
       "      <td>5</td>\n",
       "    </tr>\n",
       "    <tr>\n",
       "      <th>7</th>\n",
       "      <td>5</td>\n",
       "    </tr>\n",
       "    <tr>\n",
       "      <th>1</th>\n",
       "      <td>6</td>\n",
       "    </tr>\n",
       "    <tr>\n",
       "      <th>3</th>\n",
       "      <td>6</td>\n",
       "    </tr>\n",
       "    <tr>\n",
       "      <th>4</th>\n",
       "      <td>6</td>\n",
       "    </tr>\n",
       "    <tr>\n",
       "      <th>5</th>\n",
       "      <td>6</td>\n",
       "    </tr>\n",
       "    <tr>\n",
       "      <th>6</th>\n",
       "      <td>6</td>\n",
       "    </tr>\n",
       "    <tr>\n",
       "      <th>8</th>\n",
       "      <td>6</td>\n",
       "    </tr>\n",
       "    <tr>\n",
       "      <th>9</th>\n",
       "      <td>6</td>\n",
       "    </tr>\n",
       "  </tbody>\n",
       "</table>\n",
       "</div>"
      ],
      "text/plain": [
       "   count\n",
       "2      5\n",
       "7      5\n",
       "1      6\n",
       "3      6\n",
       "4      6\n",
       "5      6\n",
       "6      6\n",
       "8      6\n",
       "9      6"
      ]
     },
     "execution_count": 7,
     "metadata": {},
     "output_type": "execute_result"
    }
   ],
   "source": [
    "df2 = pd.DataFrame({\"count\": data2})\n",
    "df2.sort_values(\"count\", inplace=True)\n",
    "df2"
   ]
  },
  {
   "cell_type": "code",
   "execution_count": 8,
   "metadata": {
    "execution": {
     "iopub.execute_input": "2021-02-19T13:30:44.135271Z",
     "iopub.status.busy": "2021-02-19T13:30:44.135271Z",
     "iopub.status.idle": "2021-02-19T13:30:44.468545Z",
     "shell.execute_reply": "2021-02-19T13:30:44.466550Z",
     "shell.execute_reply.started": "2021-02-19T13:30:44.135271Z"
    }
   },
   "outputs": [
    {
     "data": {
      "text/plain": [
       "<AxesSubplot:title={'center':'Actions occurrences distribution'}, xlabel='Action label', ylabel='# action clips'>"
      ]
     },
     "execution_count": 8,
     "metadata": {},
     "output_type": "execute_result"
    },
    {
     "data": {
      "image/png": "[encoded data removed]",
      "text/plain": [
       "<Figure size 864x432 with 2 Axes>"
      ]
     },
     "metadata": {
      "needs_background": "light"
     },
     "output_type": "display_data"
    }
   ],
   "source": [
    "fig, (ax1, ax2) = plt.subplots(1, 2, figsize=(12, 6))\n",
    "df.plot.bar(ax=ax1, rot=0, xlabel=\"Action label\", ylabel=\"# action clips\", title=\"Actions distribution\", legend=False)\n",
    "df2.plot.bar(ax=ax2, rot=0, xlabel=\"Action label\", ylabel=\"# action clips\", title=\"Actions occurrences distribution\", legend=False)"
   ]
  },
  {
   "cell_type": "code",
   "execution_count": 9,
   "metadata": {
    "execution": {
     "iopub.execute_input": "2021-02-19T13:30:44.471533Z",
     "iopub.status.busy": "2021-02-19T13:30:44.470535Z",
     "iopub.status.idle": "2021-02-19T13:30:44.703274Z",
     "shell.execute_reply": "2021-02-19T13:30:44.701482Z",
     "shell.execute_reply.started": "2021-02-19T13:30:44.471533Z"
    }
   },
   "outputs": [],
   "source": [
    "fig.savefig(\"../img/Figure2.png\", dpi=200)"
   ]
  }
 ],
 "metadata": {
  "kernelspec": {
   "display_name": "Python 3",
   "language": "python",
   "name": "python3"
  },
  "language_info": {
   "codemirror_mode": {
    "name": "ipython",
    "version": 3
   },
   "file_extension": ".py",
   "mimetype": "text/x-python",
   "name": "python",
   "nbconvert_exporter": "python",
   "pygments_lexer": "ipython3",
   "version": "3.8.0"
  }
 },
 "nbformat": 4,
 "nbformat_minor": 4
}