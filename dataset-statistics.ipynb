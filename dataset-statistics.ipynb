{
 "cells": [
  {
   "cell_type": "code",
   "execution_count": 1,
   "metadata": {
    "execution": {
     "iopub.execute_input": "2021-02-18T11:17:38.743166Z",
     "iopub.status.busy": "2021-02-18T11:17:38.742168Z",
     "iopub.status.idle": "2021-02-18T11:17:39.378467Z",
     "shell.execute_reply": "2021-02-18T11:17:39.377469Z",
     "shell.execute_reply.started": "2021-02-18T11:17:38.743166Z"
    }
   },
   "outputs": [],
   "source": [
    "import os\n",
    "\n",
    "import matplotlib.pyplot as plt\n",
    "import numpy as np\n",
    "import pandas as pd\n",
    "from vidat import Vidat"
   ]
  },
  {
   "cell_type": "code",
   "execution_count": 2,
   "metadata": {
    "execution": {
     "iopub.execute_input": "2021-02-18T11:17:39.379465Z",
     "iopub.status.busy": "2021-02-18T11:17:39.379465Z",
     "iopub.status.idle": "2021-02-18T11:17:39.456259Z",
     "shell.execute_reply": "2021-02-18T11:17:39.456259Z",
     "shell.execute_reply.started": "2021-02-18T11:17:39.379465Z"
    }
   },
   "outputs": [],
   "source": [
    "DATESET_PATH = r\"D:\\dataset\\ikea_action_dataset_video\"\n",
    "\n",
    "train_video_list = [\n",
    "    \"haodong\",\n",
    "    \"jack\",\n",
    "    \"liyuan\",\n",
    "    \"reaching\",\n",
    "    \"zheyu\",\n",
    "]\n",
    "\n",
    "test_video_list = [\"yicong\"]\n",
    "\n",
    "fps = 30\n",
    "train_action_list = []\n",
    "test_action_list = []\n",
    "\n",
    "video_frame_list = []\n",
    "\n",
    "for video in train_video_list:\n",
    "    vidat = Vidat(os.path.join(DATESET_PATH, video, \"annotations_sorted.json\"))\n",
    "    video_frame_list.append(vidat.annotation.video.frames)\n",
    "    train_action_list.extend(vidat.annotation.actions)\n",
    "\n",
    "for video in test_video_list:\n",
    "    vidat = Vidat(os.path.join(DATESET_PATH, video, \"annotations_sorted.json\"))\n",
    "    video_frame_list.append(vidat.annotation.video.frames)\n",
    "    test_action_list.extend(vidat.annotation.actions)\n",
    "\n",
    "action_list = train_action_list + test_action_list"
   ]
  },
  {
   "cell_type": "code",
   "execution_count": 3,
   "metadata": {
    "execution": {
     "iopub.execute_input": "2021-02-18T11:17:39.458254Z",
     "iopub.status.busy": "2021-02-18T11:17:39.458254Z",
     "iopub.status.idle": "2021-02-18T11:17:39.863172Z",
     "shell.execute_reply": "2021-02-18T11:17:39.862177Z",
     "shell.execute_reply.started": "2021-02-18T11:17:39.458254Z"
    }
   },
   "outputs": [
    {
     "data": {
      "image/png": "[encoded data removed]",
      "text/plain": [
       "<Figure size 864x432 with 2 Axes>"
      ]
     },
     "metadata": {
      "needs_background": "light"
     },
     "output_type": "display_data"
    }
   ],
   "source": [
    "# Distribution of video duration\n",
    "fig, (ax1, ax2) = plt.subplots(1, 2, figsize=(12, 6))\n",
    "ax1.set_title(\"Distribution of video duration\")\n",
    "ax1.hist(video_frame_list)\n",
    "ax1.set_xlabel(\"Temporal length (frames)\")\n",
    "ax1.set_ylabel(\"# videos\")\n",
    "# Distribution of video duration\n",
    "action_duration_list = [int((action.end - action.start) * fps) for action in action_list]\n",
    "ax2.set_title(\"Distribution of action duration\")\n",
    "ax2.hist(action_duration_list)\n",
    "ax2.set_xlabel(\"Temporal length (frames)\")\n",
    "ax2.set_ylabel(\"# action clips\")\n",
    "fig.savefig(\"Figure1.svg\")"
   ]
  },
  {
   "cell_type": "code",
   "execution_count": 4,
   "metadata": {
    "execution": {
     "iopub.execute_input": "2021-02-18T11:17:39.865168Z",
     "iopub.status.busy": "2021-02-18T11:17:39.865168Z",
     "iopub.status.idle": "2021-02-18T11:17:39.878133Z",
     "shell.execute_reply": "2021-02-18T11:17:39.877135Z",
     "shell.execute_reply.started": "2021-02-18T11:17:39.865168Z"
    }
   },
   "outputs": [],
   "source": [
    "# Actions train/test distribution\n",
    "train_data = {}\n",
    "for action in train_action_list:\n",
    "    if action.action_id in train_data:\n",
    "        train_data[action.action_id] += 1\n",
    "    else:\n",
    "        train_data[action.action_id] = 1\n",
    "test_data = {}\n",
    "for action in test_action_list:\n",
    "    if action.action_id in test_data:\n",
    "        test_data[action.action_id] += 1\n",
    "    else:\n",
    "        test_data[action.action_id] = 1"
   ]
  },
  {
   "cell_type": "code",
   "execution_count": 5,
   "metadata": {
    "execution": {
     "iopub.execute_input": "2021-02-18T11:17:39.880127Z",
     "iopub.status.busy": "2021-02-18T11:17:39.880127Z",
     "iopub.status.idle": "2021-02-18T11:17:39.909051Z",
     "shell.execute_reply": "2021-02-18T11:17:39.908051Z",
     "shell.execute_reply.started": "2021-02-18T11:17:39.880127Z"
    }
   },
   "outputs": [
    {
     "data": {
      "text/html": [
       "<div>\n",
       "<style scoped>\n",
       "    .dataframe tbody tr th:only-of-type {\n",
       "        vertical-align: middle;\n",
       "    }\n",
       "\n",
       "    .dataframe tbody tr th {\n",
       "        vertical-align: top;\n",
       "    }\n",
       "\n",
       "    .dataframe thead th {\n",
       "        text-align: right;\n",
       "    }\n",
       "</style>\n",
       "<table border=\"1\" class=\"dataframe\">\n",
       "  <thead>\n",
       "    <tr style=\"text-align: right;\">\n",
       "      <th></th>\n",
       "      <th>train</th>\n",
       "      <th>test</th>\n",
       "    </tr>\n",
       "  </thead>\n",
       "  <tbody>\n",
       "    <tr>\n",
       "      <th>7</th>\n",
       "      <td>15</td>\n",
       "      <td>9</td>\n",
       "    </tr>\n",
       "    <tr>\n",
       "      <th>2</th>\n",
       "      <td>16</td>\n",
       "      <td>9</td>\n",
       "    </tr>\n",
       "    <tr>\n",
       "      <th>8</th>\n",
       "      <td>17</td>\n",
       "      <td>5</td>\n",
       "    </tr>\n",
       "    <tr>\n",
       "      <th>3</th>\n",
       "      <td>21</td>\n",
       "      <td>6</td>\n",
       "    </tr>\n",
       "    <tr>\n",
       "      <th>4</th>\n",
       "      <td>22</td>\n",
       "      <td>13</td>\n",
       "    </tr>\n",
       "    <tr>\n",
       "      <th>5</th>\n",
       "      <td>39</td>\n",
       "      <td>21</td>\n",
       "    </tr>\n",
       "    <tr>\n",
       "      <th>6</th>\n",
       "      <td>53</td>\n",
       "      <td>28</td>\n",
       "    </tr>\n",
       "    <tr>\n",
       "      <th>1</th>\n",
       "      <td>100</td>\n",
       "      <td>21</td>\n",
       "    </tr>\n",
       "    <tr>\n",
       "      <th>9</th>\n",
       "      <td>101</td>\n",
       "      <td>22</td>\n",
       "    </tr>\n",
       "  </tbody>\n",
       "</table>\n",
       "</div>"
      ],
      "text/plain": [
       "   train  test\n",
       "7     15     9\n",
       "2     16     9\n",
       "8     17     5\n",
       "3     21     6\n",
       "4     22    13\n",
       "5     39    21\n",
       "6     53    28\n",
       "1    100    21\n",
       "9    101    22"
      ]
     },
     "execution_count": 5,
     "metadata": {},
     "output_type": "execute_result"
    }
   ],
   "source": [
    "df = pd.DataFrame({\"train\": train_data, \"test\": test_data})\n",
    "df.sort_values(\"train\", inplace=True)\n",
    "df"
   ]
  },
  {
   "cell_type": "code",
   "execution_count": 6,
   "metadata": {
    "execution": {
     "iopub.execute_input": "2021-02-18T11:17:39.910047Z",
     "iopub.status.busy": "2021-02-18T11:17:39.910047Z",
     "iopub.status.idle": "2021-02-18T11:17:40.206254Z",
     "shell.execute_reply": "2021-02-18T11:17:40.206254Z",
     "shell.execute_reply.started": "2021-02-18T11:17:39.910047Z"
    }
   },
   "outputs": [
    {
     "data": {
      "image/png": "[encoded data removed]",
      "text/plain": [
       "<Figure size 432x288 with 1 Axes>"
      ]
     },
     "metadata": {
      "needs_background": "light"
     },
     "output_type": "display_data"
    }
   ],
   "source": [
    "ax = df.plot.bar(\n",
    "    stacked=True, rot=0, xlabel=\"Action label\", ylabel=\"# action clips\", title=\"Actions train/test distribution\"\n",
    ")\n",
    "ax.figure.savefig(\"Figure2.svg\")"
   ]
  }
 ],
 "metadata": {
  "kernelspec": {
   "display_name": "Python 3",
   "language": "python",
   "name": "python3"
  },
  "language_info": {
   "codemirror_mode": {
    "name": "ipython",
    "version": 3
   },
   "file_extension": ".py",
   "mimetype": "text/x-python",
   "name": "python",
   "nbconvert_exporter": "python",
   "pygments_lexer": "ipython3",
   "version": "3.8.0"
  }
 },
 "nbformat": 4,
 "nbformat_minor": 4
}
